{
 "cells": [
  {
   "cell_type": "markdown",
   "id": "bbd7f27e",
   "metadata": {},
   "source": [
    "# NYT Sentiment Analysis with Tensorflow\n",
    "\n",
    "In this project, I download monthly abstracts from the NYT for each month during the first year of the Bush, Obama, Trump, and Biden administrations. I then build an NLP sentiment analysis model with tensorflow to see what percentage of newsflow can be categorized as positive or negative for each month."
   ]
  },
  {
   "cell_type": "markdown",
   "id": "aa4b4940",
   "metadata": {},
   "source": [
    "### Pull data from NYT Archive using pynytimes API"
   ]
  },
  {
   "cell_type": "code",
   "execution_count": 19,
   "id": "264bd149",
   "metadata": {},
   "outputs": [],
   "source": [
    "# import necessary packages (I installed via command line with: python -m pip install --upgrade pynytimes)\n",
    "# pynytimes documentation: https://github.com/michadenheijer/pynytimes#archive-metadata\n",
    "from pynytimes import NYTAPI\n",
    "import datetime\n",
    "import pandas as pd\n",
    "import json"
   ]
  },
  {
   "cell_type": "code",
   "execution_count": 20,
   "id": "398c1c2d",
   "metadata": {},
   "outputs": [],
   "source": [
    "# initiate connection w/ personal API key\n",
    "secretAPIkey = 'your-secret-key'\n",
    "nyt = NYTAPI(secretAPIkey, parse_dates=True)"
   ]
  },
  {
   "cell_type": "code",
   "execution_count": 21,
   "id": "bea86ce1",
   "metadata": {},
   "outputs": [
    {
     "data": {
      "text/plain": [
       "{'abstract': 'Reasons to be hopeful about the Biden economy.',\n",
       " 'web_url': 'https://www.nytimes.com/2020/12/31/opinion/2021-economy-recovery.html',\n",
       " 'snippet': 'Reasons to be hopeful about the Biden economy.',\n",
       " 'lead_paragraph': 'The next few months will be hell in terms of politics, epidemiology and economics. But at some point in 2021 things will start getting better. And there’s good reason to believe that once the good news starts, the improvement in our condition will be much faster and continue much longer than many people expect.',\n",
       " 'print_section': 'A',\n",
       " 'print_page': '18',\n",
       " 'source': 'The New York Times',\n",
       " 'multimedia': [{'rank': 0,\n",
       "   'subtype': 'xlarge',\n",
       "   'caption': None,\n",
       "   'credit': None,\n",
       "   'type': 'image',\n",
       "   'url': 'images/2020/12/31/opinion/31krugman1/31krugman1-articleLarge.jpg',\n",
       "   'height': 393,\n",
       "   'width': 600,\n",
       "   'subType': 'xlarge',\n",
       "   'crop_name': 'articleLarge',\n",
       "   'legacy': {'xlarge': 'images/2020/12/31/opinion/31krugman1/31krugman1-articleLarge.jpg',\n",
       "    'xlargewidth': 600,\n",
       "    'xlargeheight': 393}},\n",
       "  {'rank': 0,\n",
       "   'subtype': 'jumbo',\n",
       "   'caption': None,\n",
       "   'credit': None,\n",
       "   'type': 'image',\n",
       "   'url': 'images/2020/12/31/opinion/31krugman1/31krugman1-jumbo.jpg',\n",
       "   'height': 670,\n",
       "   'width': 1024,\n",
       "   'subType': 'jumbo',\n",
       "   'crop_name': 'jumbo',\n",
       "   'legacy': {}},\n",
       "  {'rank': 0,\n",
       "   'subtype': 'superJumbo',\n",
       "   'caption': None,\n",
       "   'credit': None,\n",
       "   'type': 'image',\n",
       "   'url': 'images/2020/12/31/opinion/31krugman1/31krugman1-superJumbo.jpg',\n",
       "   'height': 1341,\n",
       "   'width': 2048,\n",
       "   'subType': 'superJumbo',\n",
       "   'crop_name': 'superJumbo',\n",
       "   'legacy': {}},\n",
       "  {'rank': 0,\n",
       "   'subtype': 'thumbnail',\n",
       "   'caption': None,\n",
       "   'credit': None,\n",
       "   'type': 'image',\n",
       "   'url': 'images/2020/12/31/opinion/31krugman1/31krugman1-thumbStandard.jpg',\n",
       "   'height': 75,\n",
       "   'width': 75,\n",
       "   'subType': 'thumbnail',\n",
       "   'crop_name': 'thumbStandard',\n",
       "   'legacy': {'thumbnail': 'images/2020/12/31/opinion/31krugman1/31krugman1-thumbStandard.jpg',\n",
       "    'thumbnailwidth': 75,\n",
       "    'thumbnailheight': 75}},\n",
       "  {'rank': 0,\n",
       "   'subtype': 'thumbLarge',\n",
       "   'caption': None,\n",
       "   'credit': None,\n",
       "   'type': 'image',\n",
       "   'url': 'images/2020/12/31/opinion/31krugman1/31krugman1-thumbLarge.jpg',\n",
       "   'height': 150,\n",
       "   'width': 150,\n",
       "   'subType': 'thumbLarge',\n",
       "   'crop_name': 'thumbLarge',\n",
       "   'legacy': {}}],\n",
       " 'headline': {'main': 'Things Will Get Better. Seriously.',\n",
       "  'kicker': None,\n",
       "  'content_kicker': None,\n",
       "  'print_headline': 'Things Will Get Better. Seriously.',\n",
       "  'name': None,\n",
       "  'seo': None,\n",
       "  'sub': None},\n",
       " 'keywords': [{'name': 'persons',\n",
       "   'value': 'Biden, Joseph R Jr',\n",
       "   'rank': 1,\n",
       "   'major': 'N'},\n",
       "  {'name': 'subject',\n",
       "   'value': 'United States Economy',\n",
       "   'rank': 2,\n",
       "   'major': 'N'},\n",
       "  {'name': 'subject', 'value': 'Labor and Jobs', 'rank': 3, 'major': 'N'},\n",
       "  {'name': 'subject',\n",
       "   'value': 'Alternative and Renewable Energy',\n",
       "   'rank': 4,\n",
       "   'major': 'N'},\n",
       "  {'name': 'subject', 'value': 'Stimulus (Economic)', 'rank': 5, 'major': 'N'},\n",
       "  {'name': 'subject',\n",
       "   'value': 'Vaccination and Immunization',\n",
       "   'rank': 6,\n",
       "   'major': 'N'},\n",
       "  {'name': 'subject',\n",
       "   'value': 'Coronavirus (2019-nCoV)',\n",
       "   'rank': 7,\n",
       "   'major': 'N'},\n",
       "  {'name': 'subject',\n",
       "   'value': 'United States Politics and Government',\n",
       "   'rank': 8,\n",
       "   'major': 'N'}],\n",
       " 'pub_date': datetime.datetime(2021, 1, 1, 0, 0, 9, tzinfo=datetime.timezone.utc),\n",
       " 'document_type': 'article',\n",
       " 'news_desk': 'OpEd',\n",
       " 'section_name': 'Opinion',\n",
       " 'byline': {'original': 'By Paul Krugman',\n",
       "  'person': [{'firstname': 'Paul',\n",
       "    'middlename': None,\n",
       "    'lastname': 'Krugman',\n",
       "    'qualifier': None,\n",
       "    'title': None,\n",
       "    'role': 'reported',\n",
       "    'organization': '',\n",
       "    'rank': 1}],\n",
       "  'organization': None},\n",
       " 'type_of_material': 'Op-Ed',\n",
       " '_id': 'nyt://article/ab590671-f1be-5b6d-8212-a7d18aabb873',\n",
       " 'word_count': 882,\n",
       " 'uri': 'nyt://article/ab590671-f1be-5b6d-8212-a7d18aabb873'}"
      ]
     },
     "execution_count": 21,
     "metadata": {},
     "output_type": "execute_result"
    }
   ],
   "source": [
    "# example of results\n",
    "nyt.archive_metadata(date = datetime.datetime(2021, 1, 1))[0]"
   ]
  },
  {
   "cell_type": "code",
   "execution_count": 22,
   "id": "4bcba8ed",
   "metadata": {},
   "outputs": [
    {
     "name": "stdout",
     "output_type": "stream",
     "text": [
      "done\n"
     ]
    }
   ],
   "source": [
    "# create dictionary to store results\n",
    "presidents = {\n",
    "    'Bush': {'first_year':2001},\n",
    "    'Obama': {'first_year':2009},\n",
    "    'Trump': {'first_year':2017},\n",
    "    'Biden': {'first_year':2021}\n",
    "    }\n",
    "\n",
    "# relevant sections of NYT\n",
    "sections =['Business', 'National', 'Politics', 'World']\n",
    "\n",
    "# pull data, store in appropriate dictionary\n",
    "for president in presidents:\n",
    "    \n",
    "    # create empty dictionary to contain all abstracts and  abstracts with direct mentions of president's last name\n",
    "    presidents[president]['abstracts'] = {}\n",
    "    presidents[president]['direct_mentions'] = {}\n",
    "    \n",
    "    for m in range(1,13):\n",
    "        # add month as key to abstracts/direct mentions dicts, set value to empty list\n",
    "        presidents[president]['abstracts'][str(m)] = []\n",
    "        presidents[president]['direct_mentions'][str(m)] = [] \n",
    "        \n",
    "        # create datetime object from month and query NYT archives\n",
    "        month = datetime.datetime(presidents[president]['first_year'], m, 1)\n",
    "        data = nyt.archive_metadata(date = month)\n",
    "        # check if article published in relevant section, and if president's name is directly mentioned\n",
    "        for article in data:\n",
    "            if article['section_name'] in sections:\n",
    "                abstract = article['abstract']\n",
    "                presidents[president]['abstracts'][str(m)].append(abstract)\n",
    "                if president in abstract:\n",
    "                    presidents[president]['direct_mentions'][str(m)].append(abstract)\n",
    "\n",
    "# save results to a json file so we do not need to pull data again\n",
    "with open(r'C:\\Users\\abode\\Documents\\Data Science\\NYT\\data.json', 'w') as f:\n",
    "    json.dump(presidents, f)\n",
    "    \n",
    "print('done')"
   ]
  },
  {
   "cell_type": "code",
   "execution_count": 23,
   "id": "24eda7cc",
   "metadata": {},
   "outputs": [],
   "source": [
    "nyt.close()"
   ]
  },
  {
   "cell_type": "code",
   "execution_count": 24,
   "id": "46186a88",
   "metadata": {},
   "outputs": [],
   "source": [
    "## IF RELOADING DATA (don't want to pull from API again)\n",
    "\n",
    "# with open(r'C:\\Users\\abode\\Documents\\Data Science\\NYT\\data.json') as json_file:\n",
    "#    presidents = json.load(json_file)"
   ]
  },
  {
   "cell_type": "markdown",
   "id": "3fbf2a15",
   "metadata": {},
   "source": [
    "## Simple NLP with TextBlob\n",
    "\n",
    "We will now use a very simple library [(TextBlob)](https://textblob.readthedocs.io/en/dev/) to perform sentiment analysis on our abstracts. We will then take a look at whether it appears to be successful or not, by looking at a sample of abstracts and their predicted sentiment."
   ]
  },
  {
   "cell_type": "code",
   "execution_count": 25,
   "id": "004d2bb9",
   "metadata": {},
   "outputs": [],
   "source": [
    "from textblob import TextBlob"
   ]
  },
  {
   "cell_type": "code",
   "execution_count": 26,
   "id": "ac001e75",
   "metadata": {
    "scrolled": true
   },
   "outputs": [
    {
     "name": "stdout",
     "output_type": "stream",
     "text": [
      "A fire at a high-end Bangkok nightclub killed at least 59 people and injured more than 200 shortly after midnight as revelers were celebrating the new year, the police said.\n",
      "positive \n",
      "\n",
      "Massing tanks and troops along the Gaza border, Israel pursued diplomatic avenues to explain its positions, and a strike killed a Hamas leader.\n",
      "negative \n",
      "\n",
      "The Russian energy giant Gazprom shut natural gas deliveries in a move that could spell shortages for Europe.\n",
      "positive \n",
      "\n",
      "Taliban militants attacked police assigned to protect an official, killing 20 of them in one of the bloodiest attacks on the security forces in months, local officials reported.\n",
      "neutral \n",
      "\n",
      "Mrs. Suzman befriended the imprisoned Nelson Mandela and offered an often lonely voice for change among South Africa’s white minority.\n",
      "negative \n",
      "\n",
      "Control of the Green Zone reverted to Iraqi control as part of the recent security agreement with the U.S.\n",
      "negative \n",
      "\n"
     ]
    }
   ],
   "source": [
    "def get_abstract_sentiment(abstract):\n",
    "    analysis = TextBlob(abstract)\n",
    "    if analysis.sentiment.polarity > 0:\n",
    "        return 'positive'\n",
    "    elif analysis.sentiment.polarity == 0:\n",
    "        return 'neutral'\n",
    "    else:\n",
    "        return 'negative'\n",
    "\n",
    "for abstract in presidents['Obama']['abstracts']['1'][10:16]:\n",
    "    print(abstract)\n",
    "    print(get_abstract_sentiment(abstract), '\\n')"
   ]
  },
  {
   "cell_type": "markdown",
   "id": "9d8350df",
   "metadata": {},
   "source": [
    "Clearly this classification model is not working very well. The fact that a fire killed 59 people and injuring more than 200 is classified as \"positive\" is pretty crazy. Seeing this, it made me wonder if I could create a more accurate classifier and practice using tensorflow at the same time."
   ]
  },
  {
   "cell_type": "markdown",
   "id": "8029acfd",
   "metadata": {},
   "source": [
    "## Training/using an NLP model with tensorflow\n",
    "\n",
    "I will now build my own NLP model, using a [labeled dataset](https://www.kaggle.com/kazanova/sentiment140) of 1.6MM tweets downloaded from Kaggle.\n",
    "\n",
    "First we'll install/import the necessary tensorflow modules. note, I had to run a few commands to get tensorflow_hub to work for me. These included:\n",
    "* python -m pip install --upgrade tensorflow_hub\n",
    "* pip uninstall tf-estimator-nightly tensorflow-estimator && pip install tf-estimator-nightly==2.4.0.dev2020101001\n",
    "* pip install --upgrade tensorflow-estimator==2.3.0\n",
    "\n",
    "The tutorial I used to help me through this project can be found [here](https://www.tensorflow.org/hub/tutorials/tf2_text_classification)"
   ]
  },
  {
   "cell_type": "code",
   "execution_count": 27,
   "id": "32411fd6",
   "metadata": {},
   "outputs": [],
   "source": [
    "import tensorflow as tf\n",
    "import tensorflow_hub as hub"
   ]
  },
  {
   "cell_type": "code",
   "execution_count": 28,
   "id": "deb2a407",
   "metadata": {
    "scrolled": true
   },
   "outputs": [
    {
     "data": {
      "text/html": [
       "<div>\n",
       "<style scoped>\n",
       "    .dataframe tbody tr th:only-of-type {\n",
       "        vertical-align: middle;\n",
       "    }\n",
       "\n",
       "    .dataframe tbody tr th {\n",
       "        vertical-align: top;\n",
       "    }\n",
       "\n",
       "    .dataframe thead th {\n",
       "        text-align: right;\n",
       "    }\n",
       "</style>\n",
       "<table border=\"1\" class=\"dataframe\">\n",
       "  <thead>\n",
       "    <tr style=\"text-align: right;\">\n",
       "      <th></th>\n",
       "      <th>target</th>\n",
       "      <th>text</th>\n",
       "    </tr>\n",
       "  </thead>\n",
       "  <tbody>\n",
       "    <tr>\n",
       "      <th>0</th>\n",
       "      <td>0</td>\n",
       "      <td>@switchfoot http://twitpic.com/2y1zl - Awww, t...</td>\n",
       "    </tr>\n",
       "    <tr>\n",
       "      <th>1</th>\n",
       "      <td>0</td>\n",
       "      <td>is upset that he can't update his Facebook by ...</td>\n",
       "    </tr>\n",
       "    <tr>\n",
       "      <th>2</th>\n",
       "      <td>0</td>\n",
       "      <td>@Kenichan I dived many times for the ball. Man...</td>\n",
       "    </tr>\n",
       "    <tr>\n",
       "      <th>3</th>\n",
       "      <td>0</td>\n",
       "      <td>my whole body feels itchy and like its on fire</td>\n",
       "    </tr>\n",
       "    <tr>\n",
       "      <th>4</th>\n",
       "      <td>0</td>\n",
       "      <td>@nationwideclass no, it's not behaving at all....</td>\n",
       "    </tr>\n",
       "  </tbody>\n",
       "</table>\n",
       "</div>"
      ],
      "text/plain": [
       "   target                                               text\n",
       "0       0  @switchfoot http://twitpic.com/2y1zl - Awww, t...\n",
       "1       0  is upset that he can't update his Facebook by ...\n",
       "2       0  @Kenichan I dived many times for the ball. Man...\n",
       "3       0    my whole body feels itchy and like its on fire \n",
       "4       0  @nationwideclass no, it's not behaving at all...."
      ]
     },
     "execution_count": 28,
     "metadata": {},
     "output_type": "execute_result"
    }
   ],
   "source": [
    "# column titles\n",
    "header_list = ['target', 'ids', 'date', 'flag', 'user', 'text']\n",
    "\n",
    "# open csv you download from Kaggle in Notepad, then \"save as\" with UTF-8 encoding\n",
    "labeled_tweets = pd.read_csv('training.1600000.processed.noemoticon.csv', names=header_list)\n",
    "labeled_tweets = labeled_tweets[['target','text']] # include only the columns we care about\n",
    "labeled_tweets['target'].replace(4,1,inplace=True) # not strictly necessary, just recoded \"positive\" to be 1 instead of 4\n",
    "labeled_tweets.head()"
   ]
  },
  {
   "cell_type": "code",
   "execution_count": 29,
   "id": "c5c075d6",
   "metadata": {},
   "outputs": [
    {
     "name": "stdout",
     "output_type": "stream",
     "text": [
      "Negative Tweets: 800000\n",
      "Positive Tweets: 800000\n"
     ]
    }
   ],
   "source": [
    "# The dataset description says there is a neutral label but there are no neutral labels in the dataset\n",
    "print('Negative Tweets:',len(labeled_tweets[labeled_tweets['target']==0]))\n",
    "print('Positive Tweets:',len(labeled_tweets[labeled_tweets['target']==1]))"
   ]
  },
  {
   "cell_type": "code",
   "execution_count": 30,
   "id": "2df058f6",
   "metadata": {},
   "outputs": [],
   "source": [
    "# create random train dataframe, with 80% of the data, test set with the remaining 20%\n",
    "train = labeled_tweets.sample(frac=0.8) \n",
    "test = labeled_tweets.drop(train.index)\n",
    "\n",
    "# turn columns into numpy arrays to use as inputs for training\n",
    "train_examples, train_labels = train['text'].values, train['target'].values\n",
    "test_examples, test_labels = test['text'].values, test['target'].values"
   ]
  },
  {
   "cell_type": "code",
   "execution_count": 31,
   "id": "f9fdb99e",
   "metadata": {
    "scrolled": true
   },
   "outputs": [
    {
     "name": "stdout",
     "output_type": "stream",
     "text": [
      "WARNING:tensorflow:5 out of the last 8 calls to <function recreate_function.<locals>.restored_function_body at 0x000002AA4E17F3A0> triggered tf.function retracing. Tracing is expensive and the excessive number of tracings could be due to (1) creating @tf.function repeatedly in a loop, (2) passing tensors with different shapes, (3) passing Python objects instead of tensors. For (1), please define your @tf.function outside of the loop. For (2), @tf.function has experimental_relax_shapes=True option that relaxes argument shapes that can avoid unnecessary retracing. For (3), please refer to https://www.tensorflow.org/tutorials/customization/performance#python_or_tensor_args and https://www.tensorflow.org/api_docs/python/tf/function for  more details.\n"
     ]
    },
    {
     "name": "stderr",
     "output_type": "stream",
     "text": [
      "WARNING:tensorflow:5 out of the last 8 calls to <function recreate_function.<locals>.restored_function_body at 0x000002AA4E17F3A0> triggered tf.function retracing. Tracing is expensive and the excessive number of tracings could be due to (1) creating @tf.function repeatedly in a loop, (2) passing tensors with different shapes, (3) passing Python objects instead of tensors. For (1), please define your @tf.function outside of the loop. For (2), @tf.function has experimental_relax_shapes=True option that relaxes argument shapes that can avoid unnecessary retracing. For (3), please refer to https://www.tensorflow.org/tutorials/customization/performance#python_or_tensor_args and https://www.tensorflow.org/api_docs/python/tf/function for  more details.\n"
     ]
    },
    {
     "name": "stdout",
     "output_type": "stream",
     "text": [
      "WARNING:tensorflow:6 out of the last 9 calls to <function recreate_function.<locals>.restored_function_body at 0x000002AA7918CDC0> triggered tf.function retracing. Tracing is expensive and the excessive number of tracings could be due to (1) creating @tf.function repeatedly in a loop, (2) passing tensors with different shapes, (3) passing Python objects instead of tensors. For (1), please define your @tf.function outside of the loop. For (2), @tf.function has experimental_relax_shapes=True option that relaxes argument shapes that can avoid unnecessary retracing. For (3), please refer to https://www.tensorflow.org/tutorials/customization/performance#python_or_tensor_args and https://www.tensorflow.org/api_docs/python/tf/function for  more details.\n"
     ]
    },
    {
     "name": "stderr",
     "output_type": "stream",
     "text": [
      "WARNING:tensorflow:6 out of the last 9 calls to <function recreate_function.<locals>.restored_function_body at 0x000002AA7918CDC0> triggered tf.function retracing. Tracing is expensive and the excessive number of tracings could be due to (1) creating @tf.function repeatedly in a loop, (2) passing tensors with different shapes, (3) passing Python objects instead of tensors. For (1), please define your @tf.function outside of the loop. For (2), @tf.function has experimental_relax_shapes=True option that relaxes argument shapes that can avoid unnecessary retracing. For (3), please refer to https://www.tensorflow.org/tutorials/customization/performance#python_or_tensor_args and https://www.tensorflow.org/api_docs/python/tf/function for  more details.\n"
     ]
    },
    {
     "name": "stdout",
     "output_type": "stream",
     "text": [
      "WARNING:tensorflow:7 out of the last 10 calls to <function recreate_function.<locals>.restored_function_body at 0x000002AA7918C280> triggered tf.function retracing. Tracing is expensive and the excessive number of tracings could be due to (1) creating @tf.function repeatedly in a loop, (2) passing tensors with different shapes, (3) passing Python objects instead of tensors. For (1), please define your @tf.function outside of the loop. For (2), @tf.function has experimental_relax_shapes=True option that relaxes argument shapes that can avoid unnecessary retracing. For (3), please refer to https://www.tensorflow.org/tutorials/customization/performance#python_or_tensor_args and https://www.tensorflow.org/api_docs/python/tf/function for  more details.\n"
     ]
    },
    {
     "name": "stderr",
     "output_type": "stream",
     "text": [
      "WARNING:tensorflow:7 out of the last 10 calls to <function recreate_function.<locals>.restored_function_body at 0x000002AA7918C280> triggered tf.function retracing. Tracing is expensive and the excessive number of tracings could be due to (1) creating @tf.function repeatedly in a loop, (2) passing tensors with different shapes, (3) passing Python objects instead of tensors. For (1), please define your @tf.function outside of the loop. For (2), @tf.function has experimental_relax_shapes=True option that relaxes argument shapes that can avoid unnecessary retracing. For (3), please refer to https://www.tensorflow.org/tutorials/customization/performance#python_or_tensor_args and https://www.tensorflow.org/api_docs/python/tf/function for  more details.\n"
     ]
    },
    {
     "data": {
      "text/plain": [
       "<tf.Tensor: shape=(1, 128), dtype=float32, numpy=\n",
       "array([[-0.02658028, -0.09772534, -0.01575587,  0.07774093,  0.12727807,\n",
       "        -0.13316076, -0.01769425, -0.12485762, -0.07248454,  0.01822883,\n",
       "        -0.14585893,  0.00447521, -0.15491574, -0.07313804,  0.19325636,\n",
       "         0.06565783,  0.02222507,  0.02928767, -0.12259157, -0.17316523,\n",
       "         0.1133112 ,  0.01786883, -0.04696574, -0.00336145, -0.1204062 ,\n",
       "         0.16387257, -0.05053407, -0.03893531, -0.04547245,  0.04783821,\n",
       "        -0.07781563,  0.12298203,  0.09345517,  0.03844193,  0.11121865,\n",
       "         0.13432561, -0.17333227, -0.02238974, -0.03906756, -0.00456211,\n",
       "        -0.03392179, -0.08573876,  0.0612272 , -0.1084713 ,  0.1709402 ,\n",
       "         0.1609702 ,  0.09487601,  0.05127693, -0.05268176,  0.11603395,\n",
       "         0.08768135, -0.012691  ,  0.08769303, -0.16138603, -0.0641731 ,\n",
       "         0.09385896, -0.20515575,  0.15277667, -0.00041164, -0.13673322,\n",
       "         0.05308207,  0.06408086,  0.03883106,  0.12774932,  0.06277701,\n",
       "         0.10611621,  0.13748531, -0.11889239,  0.14854401,  0.02848628,\n",
       "        -0.11483265,  0.08760276,  0.13441102, -0.04972877, -0.21938397,\n",
       "        -0.01992165, -0.01775899, -0.05128679,  0.11748794,  0.01710915,\n",
       "         0.0657759 ,  0.04496997,  0.08095436, -0.09420551,  0.1793217 ,\n",
       "         0.03195986, -0.09485476, -0.06777676,  0.13145489,  0.04179318,\n",
       "         0.10187045, -0.04454445, -0.04819695, -0.05914394,  0.05561631,\n",
       "         0.00226449,  0.05363364,  0.0123086 ,  0.07856821, -0.1384311 ,\n",
       "        -0.10429567, -0.00527438,  0.00299973, -0.01572154, -0.00179094,\n",
       "         0.07730117, -0.09808526,  0.1203941 ,  0.09689914,  0.11465111,\n",
       "         0.08420432,  0.0435331 ,  0.0047756 ,  0.10792463,  0.0344277 ,\n",
       "        -0.11071577, -0.05609374,  0.10499717,  0.11438505, -0.07689935,\n",
       "         0.035405  , -0.06248203,  0.11213922,  0.01411349, -0.17382836,\n",
       "        -0.09087799,  0.00490969,  0.06186279]], dtype=float32)>"
      ]
     },
     "execution_count": 31,
     "metadata": {},
     "output_type": "execute_result"
    }
   ],
   "source": [
    "# I needed to set up a directory for my tensorflow hub downloads to go to\n",
    "import os\n",
    "os.environ['TFHUB_CACHE_DIR'] = r'C:\\Users\\abode\\Documents\\Data Science\\Tensor Flow\\tf modules'\n",
    "\n",
    "# we need to \"tokenize\" our inputs, convert our abstracts into numerical values\n",
    "# I will use the tokenization model below, on tensorflow hub\n",
    "model = \"https://tfhub.dev/google/nnlm-en-dim128-with-normalization/2\"\n",
    "hub_layer = hub.KerasLayer(model, input_shape=[], dtype=tf.string, trainable=True)\n",
    "\n",
    "# example of tokenization of an abstract\n",
    "hub_layer(train_examples[0:1])"
   ]
  },
  {
   "cell_type": "code",
   "execution_count": 32,
   "id": "51a1295e",
   "metadata": {
    "scrolled": true
   },
   "outputs": [
    {
     "name": "stdout",
     "output_type": "stream",
     "text": [
      "WARNING:tensorflow:AutoGraph could not transform <bound method KerasLayer.call of <tensorflow_hub.keras_layer.KerasLayer object at 0x000002AA03C615E0>> and will run it as-is.\n",
      "Please report this to the TensorFlow team. When filing the bug, set the verbosity to 10 (on Linux, `export AUTOGRAPH_VERBOSITY=10`) and attach the full output.\n",
      "Cause: module 'gast' has no attribute 'Index'\n",
      "To silence this warning, decorate the function with @tf.autograph.experimental.do_not_convert\n"
     ]
    },
    {
     "name": "stderr",
     "output_type": "stream",
     "text": [
      "WARNING:tensorflow:AutoGraph could not transform <bound method KerasLayer.call of <tensorflow_hub.keras_layer.KerasLayer object at 0x000002AA03C615E0>> and will run it as-is.\n",
      "Please report this to the TensorFlow team. When filing the bug, set the verbosity to 10 (on Linux, `export AUTOGRAPH_VERBOSITY=10`) and attach the full output.\n",
      "Cause: module 'gast' has no attribute 'Index'\n",
      "To silence this warning, decorate the function with @tf.autograph.experimental.do_not_convert\n"
     ]
    },
    {
     "name": "stdout",
     "output_type": "stream",
     "text": [
      "WARNING: AutoGraph could not transform <bound method KerasLayer.call of <tensorflow_hub.keras_layer.KerasLayer object at 0x000002AA03C615E0>> and will run it as-is.\n",
      "Please report this to the TensorFlow team. When filing the bug, set the verbosity to 10 (on Linux, `export AUTOGRAPH_VERBOSITY=10`) and attach the full output.\n",
      "Cause: module 'gast' has no attribute 'Index'\n",
      "To silence this warning, decorate the function with @tf.autograph.experimental.do_not_convert\n",
      "Model: \"sequential\"\n",
      "_________________________________________________________________\n",
      "Layer (type)                 Output Shape              Param #   \n",
      "=================================================================\n",
      "keras_layer_1 (KerasLayer)   (None, 128)               124642688 \n",
      "_________________________________________________________________\n",
      "dense (Dense)                (None, 16)                2064      \n",
      "_________________________________________________________________\n",
      "dense_1 (Dense)              (None, 8)                 136       \n",
      "_________________________________________________________________\n",
      "dense_2 (Dense)              (None, 1)                 9         \n",
      "=================================================================\n",
      "Total params: 124,644,897\n",
      "Trainable params: 124,644,897\n",
      "Non-trainable params: 0\n",
      "_________________________________________________________________\n"
     ]
    }
   ],
   "source": [
    "# create a Sequential neural network\n",
    "model = tf.keras.Sequential()\n",
    "model.add(hub_layer) # add tokenization layer\n",
    "model.add(tf.keras.layers.Dense(16, activation='relu')) # create hidden layer with 16 nodes\n",
    "model.add(tf.keras.layers.Dense(8, activation='relu')) # create hidden layer with 8 nodes\n",
    "model.add(tf.keras.layers.Dense(1, activation='sigmoid')) # output layer, 1 node, sigmoid, for binary classification\n",
    "model.summary()"
   ]
  },
  {
   "cell_type": "code",
   "execution_count": 33,
   "id": "4ef894f6",
   "metadata": {},
   "outputs": [],
   "source": [
    "# compile model, designed for binary classification\n",
    "model.compile(optimizer='adam',\n",
    "              loss=tf.losses.BinaryCrossentropy(from_logits=True),\n",
    "              metrics=[tf.metrics.BinaryAccuracy(threshold=0.5, name='accuracy')])"
   ]
  },
  {
   "cell_type": "code",
   "execution_count": 34,
   "id": "a5c1f165",
   "metadata": {},
   "outputs": [
    {
     "name": "stdout",
     "output_type": "stream",
     "text": [
      "100000 1180000\n"
     ]
    }
   ],
   "source": [
    "# set aside some of the example datapoints for validation during training\n",
    "x_val = train_examples[:100000]\n",
    "partial_x_train = train_examples[100000:]\n",
    "\n",
    "y_val = train_labels[:100000]\n",
    "partial_y_train = train_labels[100000:]\n",
    "\n",
    "print(len(x_val), len(partial_x_train))"
   ]
  },
  {
   "cell_type": "code",
   "execution_count": 35,
   "id": "97e65653",
   "metadata": {
    "scrolled": true
   },
   "outputs": [
    {
     "name": "stdout",
     "output_type": "stream",
     "text": [
      "Epoch 1/10\n",
      "24/24 [==============================] - ETA: 0s - loss: 0.7111 - accuracy: 0.5136WARNING:tensorflow:8 out of the last 11 calls to <function recreate_function.<locals>.restored_function_body at 0x000002AA07C96790> triggered tf.function retracing. Tracing is expensive and the excessive number of tracings could be due to (1) creating @tf.function repeatedly in a loop, (2) passing tensors with different shapes, (3) passing Python objects instead of tensors. For (1), please define your @tf.function outside of the loop. For (2), @tf.function has experimental_relax_shapes=True option that relaxes argument shapes that can avoid unnecessary retracing. For (3), please refer to https://www.tensorflow.org/tutorials/customization/performance#python_or_tensor_args and https://www.tensorflow.org/api_docs/python/tf/function for  more details.\n"
     ]
    },
    {
     "name": "stderr",
     "output_type": "stream",
     "text": [
      "WARNING:tensorflow:8 out of the last 11 calls to <function recreate_function.<locals>.restored_function_body at 0x000002AA07C96790> triggered tf.function retracing. Tracing is expensive and the excessive number of tracings could be due to (1) creating @tf.function repeatedly in a loop, (2) passing tensors with different shapes, (3) passing Python objects instead of tensors. For (1), please define your @tf.function outside of the loop. For (2), @tf.function has experimental_relax_shapes=True option that relaxes argument shapes that can avoid unnecessary retracing. For (3), please refer to https://www.tensorflow.org/tutorials/customization/performance#python_or_tensor_args and https://www.tensorflow.org/api_docs/python/tf/function for  more details.\n"
     ]
    },
    {
     "name": "stdout",
     "output_type": "stream",
     "text": [
      "24/24 [==============================] - 44s 2s/step - loss: 0.7111 - accuracy: 0.5136 - val_loss: 0.6953 - val_accuracy: 0.5157\n",
      "Epoch 2/10\n",
      "24/24 [==============================] - 35s 1s/step - loss: 0.6805 - accuracy: 0.5431 - val_loss: 0.6644 - val_accuracy: 0.6055\n",
      "Epoch 3/10\n",
      "24/24 [==============================] - 37s 2s/step - loss: 0.6498 - accuracy: 0.6705 - val_loss: 0.6343 - val_accuracy: 0.7280\n",
      "Epoch 4/10\n",
      "24/24 [==============================] - 36s 1s/step - loss: 0.6226 - accuracy: 0.7476 - val_loss: 0.6134 - val_accuracy: 0.7635\n",
      "Epoch 5/10\n",
      "24/24 [==============================] - 35s 1s/step - loss: 0.6068 - accuracy: 0.7746 - val_loss: 0.6044 - val_accuracy: 0.7781\n",
      "Epoch 6/10\n",
      "24/24 [==============================] - 41s 2s/step - loss: 0.5996 - accuracy: 0.7874 - val_loss: 0.6007 - val_accuracy: 0.7837\n",
      "Epoch 7/10\n",
      "24/24 [==============================] - 41s 2s/step - loss: 0.5954 - accuracy: 0.7955 - val_loss: 0.5988 - val_accuracy: 0.7870\n",
      "Epoch 8/10\n",
      "24/24 [==============================] - 41s 2s/step - loss: 0.5927 - accuracy: 0.8016 - val_loss: 0.5977 - val_accuracy: 0.7883\n",
      "Epoch 9/10\n",
      "24/24 [==============================] - 40s 2s/step - loss: 0.5905 - accuracy: 0.8065 - val_loss: 0.5970 - val_accuracy: 0.7891\n",
      "Epoch 10/10\n",
      "24/24 [==============================] - 40s 2s/step - loss: 0.5887 - accuracy: 0.8103 - val_loss: 0.5967 - val_accuracy: 0.7903\n"
     ]
    }
   ],
   "source": [
    "# train the model\n",
    "history = model.fit(partial_x_train,\n",
    "                    partial_y_train,\n",
    "                    epochs=10,\n",
    "                    batch_size=50000,\n",
    "                    validation_data=(x_val, y_val),\n",
    "                    verbose=1)"
   ]
  },
  {
   "cell_type": "code",
   "execution_count": 36,
   "id": "c770ed7f",
   "metadata": {},
   "outputs": [
    {
     "name": "stdout",
     "output_type": "stream",
     "text": [
      "10000/10000 [==============================] - 2843s 284ms/step - loss: 0.5966 - accuracy: 0.7886\n",
      "[0.5966139435768127, 0.7886250019073486]\n"
     ]
    }
   ],
   "source": [
    "# evaluate performance on test set\n",
    "results = model.evaluate(test_examples, test_labels)\n",
    "print(results)"
   ]
  },
  {
   "cell_type": "code",
   "execution_count": 37,
   "id": "267a4d72",
   "metadata": {},
   "outputs": [
    {
     "data": {
      "image/png": "[encoded data removed]",
      "text/plain": [
       "<Figure size 432x288 with 2 Axes>"
      ]
     },
     "metadata": {
      "needs_background": "light"
     },
     "output_type": "display_data"
    }
   ],
   "source": [
    "# visualize perfomance with a confusion matrix\n",
    "import matplotlib.pyplot as plt\n",
    "import seaborn as sns\n",
    "\n",
    "predictions = (model.predict(test_examples) > 0.5).astype(\"int32\")\n",
    "predictions = [p[0] for p in predictions]\n",
    "confusion_matrix = tf.math.confusion_matrix(test_labels, predictions)\n",
    "\n",
    "ax = plt.axes()\n",
    "sns.heatmap(confusion_matrix, cmap='flare', annot=True, fmt=\"d\", ax = ax)\n",
    "ax.set_title('Tensorflow NLP Model: Confusion Matrix')\n",
    "ax.set_xlabel('Predicted Label')\n",
    "ax.set_ylabel('True Label')\n",
    "plt.show()\n",
    "\n",
    "# we can see that our model has a negative bias"
   ]
  },
  {
   "cell_type": "code",
   "execution_count": 59,
   "id": "d84b04ca",
   "metadata": {},
   "outputs": [],
   "source": [
    "## save our model for future use, so we don't have to retrain each time\n",
    "# model.save(r'saved_model\\twitter_npl2.h5')\n",
    "\n",
    "## if we want to reload it, without retraining it:\n",
    "## NOT WORKING...IDK WHY:\n",
    "# new_model = tf.keras.models.load_model(r'saved_model\\twitter_npl.h5', custom_objects={'KerasLayer': hub.KerasLayer})"
   ]
  },
  {
   "cell_type": "markdown",
   "id": "8d79e007",
   "metadata": {},
   "source": [
    "## Compare performance on tweet dataset: Tensorflow vs. TextBlob\n",
    "\n",
    "Note: TextBlob predicts \"neutral\" sentiment as well. Therefore, this won't be a direct comparison, but it will be helpful nonetheless. We will randomly choose to reclassify TextBlob's \"neutral\" predictions as either \"positive\" or \"negative.\" From above, we can see that our tensorflow accuracy was **79%**."
   ]
  },
  {
   "cell_type": "code",
   "execution_count": 66,
   "id": "461a76d0",
   "metadata": {},
   "outputs": [
    {
     "name": "stdout",
     "output_type": "stream",
     "text": [
      "Accuracy: 0.6165375\n"
     ]
    }
   ],
   "source": [
    "import random\n",
    "\n",
    "# change function to recategorize neutrals\n",
    "def get_abstract_sentiment_2(abstract):\n",
    "    analysis = TextBlob(abstract)\n",
    "    if analysis.sentiment.polarity > 0:\n",
    "        return 1\n",
    "    elif analysis.sentiment.polarity == 0 and random.random() > 0.5:\n",
    "        return 1\n",
    "    else:\n",
    "        return 0\n",
    "\n",
    "# loop through test examples and check if TextBlob's prediction matches actual label\n",
    "correct = 0\n",
    "incorrect = 0\n",
    "for i in range(len(test_examples)):\n",
    "    if test_labels[i] == get_abstract_sentiment_2(test_examples[i]):\n",
    "        correct += 1\n",
    "    else:\n",
    "        incorrect += 1\n",
    "\n",
    "print('Accuracy:', correct/(correct+incorrect))"
   ]
  },
  {
   "cell_type": "markdown",
   "id": "6cd8248e",
   "metadata": {},
   "source": [
    "## Compare performance on random sample of abstracts: Tensorflow vs. TextBlob\n",
    "\n",
    "We will let TextBlob predict \"Neutral\" again. With Tensorflow we are able to classify a headline about fire, death, and injury as \"negative\" instead of \"positive\"."
   ]
  },
  {
   "cell_type": "code",
   "execution_count": 40,
   "id": "9cd85a12",
   "metadata": {
    "scrolled": true
   },
   "outputs": [
    {
     "name": "stdout",
     "output_type": "stream",
     "text": [
      "A fire at a high-end Bangkok nightclub killed at least 59 people and injured more than 200 shortly after midnight as revelers were celebrating the new year, the police said.\n",
      "TextBlob prediction: positive | Tensorflow prediction: negative \n",
      "\n",
      "Massing tanks and troops along the Gaza border, Israel pursued diplomatic avenues to explain its positions, and a strike killed a Hamas leader.\n",
      "TextBlob prediction: negative | Tensorflow prediction: negative \n",
      "\n",
      "The Russian energy giant Gazprom shut natural gas deliveries in a move that could spell shortages for Europe.\n",
      "TextBlob prediction: positive | Tensorflow prediction: negative \n",
      "\n",
      "Taliban militants attacked police assigned to protect an official, killing 20 of them in one of the bloodiest attacks on the security forces in months, local officials reported.\n",
      "TextBlob prediction: neutral | Tensorflow prediction: negative \n",
      "\n",
      "Mrs. Suzman befriended the imprisoned Nelson Mandela and offered an often lonely voice for change among South Africa’s white minority.\n",
      "TextBlob prediction: negative | Tensorflow prediction: negative \n",
      "\n",
      "Control of the Green Zone reverted to Iraqi control as part of the recent security agreement with the U.S.\n",
      "TextBlob prediction: negative | Tensorflow prediction: positive \n",
      "\n",
      "In late October, three highly-experienced photographers who have covered every phase of the Iraq conflict, came together in the Baghdad Bureau of The New York Times to discuss the conflict and how it has evolved since 2003.\n",
      "TextBlob prediction: negative | Tensorflow prediction: negative \n",
      "\n",
      "Iraq took control of Baghdad’s Green Zone as part of the recent security agreement with the U.S.\n",
      "TextBlob prediction: negative | Tensorflow prediction: positive \n",
      "\n",
      "Cuba marked the 50th anniversary of its revolution amid somber assessments of a struggling economy.\n",
      "TextBlob prediction: positive | Tensorflow prediction: negative \n",
      "\n",
      "The state built on the ruins of the Taliban regime now often seems to exist for little more than the enrichment of those who run it.\n",
      "TextBlob prediction: positive | Tensorflow prediction: negative \n",
      "\n"
     ]
    }
   ],
   "source": [
    "for abstract in presidents['Obama']['abstracts']['1'][10:20]:\n",
    "    print(abstract)\n",
    "    \n",
    "    text_blob = get_abstract_sentiment(abstract)\n",
    "    \n",
    "    tensor_flow = (model.predict([abstract]) > 0.5).astype(\"int32\")[0][0]\n",
    "    if tensor_flow == 1:\n",
    "        tensor_flow = 'positive'\n",
    "    else:\n",
    "        tensor_flow = 'negative'\n",
    "        \n",
    "    print('TextBlob prediction:', text_blob, '|', 'Tensorflow prediction:', tensor_flow, '\\n')"
   ]
  },
  {
   "cell_type": "markdown",
   "id": "f2dcf389",
   "metadata": {},
   "source": [
    "## Use tf NLP model to get sentiment for all abstracts in each month"
   ]
  },
  {
   "cell_type": "code",
   "execution_count": 43,
   "id": "565e6b12",
   "metadata": {},
   "outputs": [],
   "source": [
    "# loop through presidents, for each month predict the sentiment for all abstracts and direct mentions\n",
    "for president in presidents:\n",
    "    presidents[president]['sentiment (predictions)'] ={'all':{}, 'direct':{}}\n",
    "    presidents[president]['sentiment (%)'] = {}\n",
    "    \n",
    "    for month in range(1,13):\n",
    "        all_abstracts = presidents[president]['abstracts'][str(month)]   \n",
    "        all_sentiment = (model.predict(all_abstracts) > 0.5).astype('int')\n",
    "        all_sentiment = [int(prediction[0]) for prediction in all_sentiment]\n",
    "        \n",
    "        direct_abstracts = presidents[president]['direct_mentions'][str(month)]\n",
    "        direct_sentiment = (model.predict(direct_abstracts) > 0.5).astype('int')\n",
    "        direct_sentiment = [int(prediction[0]) for prediction in direct_sentiment]\n",
    "        \n",
    "        presidents[president]['sentiment (predictions)']['all'][str(month)] = all_sentiment\n",
    "        presidents[president]['sentiment (predictions)']['direct'][str(month)] = direct_sentiment\n",
    "        \n",
    "        presidents[president]['sentiment (%)'][str(month)] = {}\n",
    "        presidents[president]['sentiment (%)'][str(month)]['positive (all)'] = sum(all_sentiment)/len(all_sentiment)\n",
    "        presidents[president]['sentiment (%)'][str(month)]['negative (all)'] = 1 - (sum(all_sentiment)/len(all_sentiment))\n",
    "        presidents[president]['sentiment (%)'][str(month)]['positive (direct)'] = sum(direct_sentiment)/len(direct_sentiment)\n",
    "        presidents[president]['sentiment (%)'][str(month)]['negative (direct)'] = 1 - (sum(direct_sentiment)/len(direct_sentiment))\n",
    "\n",
    "# save results to a json file for future projects\n",
    "with open(r'C:\\Users\\abode\\Documents\\Data Science\\NYT\\president_df_final.json', 'w') as f:\n",
    "    json.dump(presidents, f)"
   ]
  },
  {
   "cell_type": "markdown",
   "id": "7192cebf",
   "metadata": {},
   "source": [
    "## Visualize Results"
   ]
  },
  {
   "cell_type": "code",
   "execution_count": 44,
   "id": "9384c6e9",
   "metadata": {
    "scrolled": true
   },
   "outputs": [
    {
     "data": {
      "text/html": [
       "<div>\n",
       "<style scoped>\n",
       "    .dataframe tbody tr th:only-of-type {\n",
       "        vertical-align: middle;\n",
       "    }\n",
       "\n",
       "    .dataframe tbody tr th {\n",
       "        vertical-align: top;\n",
       "    }\n",
       "\n",
       "    .dataframe thead th {\n",
       "        text-align: right;\n",
       "    }\n",
       "</style>\n",
       "<table border=\"1\" class=\"dataframe\">\n",
       "  <thead>\n",
       "    <tr style=\"text-align: right;\">\n",
       "      <th></th>\n",
       "      <th>president</th>\n",
       "      <th>month</th>\n",
       "      <th>positive (all)</th>\n",
       "      <th>negative (all)</th>\n",
       "      <th>positive (direct)</th>\n",
       "      <th>negative (direct)</th>\n",
       "    </tr>\n",
       "  </thead>\n",
       "  <tbody>\n",
       "    <tr>\n",
       "      <th>0</th>\n",
       "      <td>Bush</td>\n",
       "      <td>1</td>\n",
       "      <td>0.259101</td>\n",
       "      <td>0.740899</td>\n",
       "      <td>0.423077</td>\n",
       "      <td>0.576923</td>\n",
       "    </tr>\n",
       "    <tr>\n",
       "      <th>1</th>\n",
       "      <td>Bush</td>\n",
       "      <td>2</td>\n",
       "      <td>0.270270</td>\n",
       "      <td>0.729730</td>\n",
       "      <td>0.222222</td>\n",
       "      <td>0.777778</td>\n",
       "    </tr>\n",
       "    <tr>\n",
       "      <th>2</th>\n",
       "      <td>Bush</td>\n",
       "      <td>3</td>\n",
       "      <td>0.268775</td>\n",
       "      <td>0.731225</td>\n",
       "      <td>0.424658</td>\n",
       "      <td>0.575342</td>\n",
       "    </tr>\n",
       "    <tr>\n",
       "      <th>3</th>\n",
       "      <td>Bush</td>\n",
       "      <td>4</td>\n",
       "      <td>0.244856</td>\n",
       "      <td>0.755144</td>\n",
       "      <td>0.250000</td>\n",
       "      <td>0.750000</td>\n",
       "    </tr>\n",
       "    <tr>\n",
       "      <th>4</th>\n",
       "      <td>Bush</td>\n",
       "      <td>5</td>\n",
       "      <td>0.260116</td>\n",
       "      <td>0.739884</td>\n",
       "      <td>0.356322</td>\n",
       "      <td>0.643678</td>\n",
       "    </tr>\n",
       "    <tr>\n",
       "      <th>5</th>\n",
       "      <td>Bush</td>\n",
       "      <td>6</td>\n",
       "      <td>0.309598</td>\n",
       "      <td>0.690402</td>\n",
       "      <td>0.422535</td>\n",
       "      <td>0.577465</td>\n",
       "    </tr>\n",
       "    <tr>\n",
       "      <th>6</th>\n",
       "      <td>Bush</td>\n",
       "      <td>7</td>\n",
       "      <td>0.245098</td>\n",
       "      <td>0.754902</td>\n",
       "      <td>0.271429</td>\n",
       "      <td>0.728571</td>\n",
       "    </tr>\n",
       "    <tr>\n",
       "      <th>7</th>\n",
       "      <td>Bush</td>\n",
       "      <td>8</td>\n",
       "      <td>0.294304</td>\n",
       "      <td>0.705696</td>\n",
       "      <td>0.200000</td>\n",
       "      <td>0.800000</td>\n",
       "    </tr>\n",
       "    <tr>\n",
       "      <th>8</th>\n",
       "      <td>Bush</td>\n",
       "      <td>9</td>\n",
       "      <td>0.234177</td>\n",
       "      <td>0.765823</td>\n",
       "      <td>0.206186</td>\n",
       "      <td>0.793814</td>\n",
       "    </tr>\n",
       "    <tr>\n",
       "      <th>9</th>\n",
       "      <td>Bush</td>\n",
       "      <td>10</td>\n",
       "      <td>0.217520</td>\n",
       "      <td>0.782480</td>\n",
       "      <td>0.180952</td>\n",
       "      <td>0.819048</td>\n",
       "    </tr>\n",
       "    <tr>\n",
       "      <th>10</th>\n",
       "      <td>Bush</td>\n",
       "      <td>11</td>\n",
       "      <td>0.210300</td>\n",
       "      <td>0.789700</td>\n",
       "      <td>0.215054</td>\n",
       "      <td>0.784946</td>\n",
       "    </tr>\n",
       "    <tr>\n",
       "      <th>11</th>\n",
       "      <td>Bush</td>\n",
       "      <td>12</td>\n",
       "      <td>0.220213</td>\n",
       "      <td>0.779787</td>\n",
       "      <td>0.186047</td>\n",
       "      <td>0.813953</td>\n",
       "    </tr>\n",
       "    <tr>\n",
       "      <th>12</th>\n",
       "      <td>Obama</td>\n",
       "      <td>1</td>\n",
       "      <td>0.257028</td>\n",
       "      <td>0.742972</td>\n",
       "      <td>0.636364</td>\n",
       "      <td>0.363636</td>\n",
       "    </tr>\n",
       "    <tr>\n",
       "      <th>13</th>\n",
       "      <td>Obama</td>\n",
       "      <td>2</td>\n",
       "      <td>0.277778</td>\n",
       "      <td>0.722222</td>\n",
       "      <td>0.500000</td>\n",
       "      <td>0.500000</td>\n",
       "    </tr>\n",
       "    <tr>\n",
       "      <th>14</th>\n",
       "      <td>Obama</td>\n",
       "      <td>3</td>\n",
       "      <td>0.286239</td>\n",
       "      <td>0.713761</td>\n",
       "      <td>0.684211</td>\n",
       "      <td>0.315789</td>\n",
       "    </tr>\n",
       "    <tr>\n",
       "      <th>15</th>\n",
       "      <td>Obama</td>\n",
       "      <td>4</td>\n",
       "      <td>0.294991</td>\n",
       "      <td>0.705009</td>\n",
       "      <td>0.583333</td>\n",
       "      <td>0.416667</td>\n",
       "    </tr>\n",
       "    <tr>\n",
       "      <th>16</th>\n",
       "      <td>Obama</td>\n",
       "      <td>5</td>\n",
       "      <td>0.311663</td>\n",
       "      <td>0.688337</td>\n",
       "      <td>0.650000</td>\n",
       "      <td>0.350000</td>\n",
       "    </tr>\n",
       "    <tr>\n",
       "      <th>17</th>\n",
       "      <td>Obama</td>\n",
       "      <td>6</td>\n",
       "      <td>0.311445</td>\n",
       "      <td>0.688555</td>\n",
       "      <td>0.750000</td>\n",
       "      <td>0.250000</td>\n",
       "    </tr>\n",
       "    <tr>\n",
       "      <th>18</th>\n",
       "      <td>Obama</td>\n",
       "      <td>7</td>\n",
       "      <td>0.258944</td>\n",
       "      <td>0.741056</td>\n",
       "      <td>0.782609</td>\n",
       "      <td>0.217391</td>\n",
       "    </tr>\n",
       "    <tr>\n",
       "      <th>19</th>\n",
       "      <td>Obama</td>\n",
       "      <td>8</td>\n",
       "      <td>0.271930</td>\n",
       "      <td>0.728070</td>\n",
       "      <td>0.615385</td>\n",
       "      <td>0.384615</td>\n",
       "    </tr>\n",
       "    <tr>\n",
       "      <th>20</th>\n",
       "      <td>Obama</td>\n",
       "      <td>9</td>\n",
       "      <td>0.304132</td>\n",
       "      <td>0.695868</td>\n",
       "      <td>0.580645</td>\n",
       "      <td>0.419355</td>\n",
       "    </tr>\n",
       "    <tr>\n",
       "      <th>21</th>\n",
       "      <td>Obama</td>\n",
       "      <td>10</td>\n",
       "      <td>0.315068</td>\n",
       "      <td>0.684932</td>\n",
       "      <td>0.454545</td>\n",
       "      <td>0.545455</td>\n",
       "    </tr>\n",
       "    <tr>\n",
       "      <th>22</th>\n",
       "      <td>Obama</td>\n",
       "      <td>11</td>\n",
       "      <td>0.357564</td>\n",
       "      <td>0.642436</td>\n",
       "      <td>0.642857</td>\n",
       "      <td>0.357143</td>\n",
       "    </tr>\n",
       "    <tr>\n",
       "      <th>23</th>\n",
       "      <td>Obama</td>\n",
       "      <td>12</td>\n",
       "      <td>0.278438</td>\n",
       "      <td>0.721562</td>\n",
       "      <td>0.704545</td>\n",
       "      <td>0.295455</td>\n",
       "    </tr>\n",
       "    <tr>\n",
       "      <th>24</th>\n",
       "      <td>Trump</td>\n",
       "      <td>1</td>\n",
       "      <td>0.368015</td>\n",
       "      <td>0.631985</td>\n",
       "      <td>0.456522</td>\n",
       "      <td>0.543478</td>\n",
       "    </tr>\n",
       "    <tr>\n",
       "      <th>25</th>\n",
       "      <td>Trump</td>\n",
       "      <td>2</td>\n",
       "      <td>0.344898</td>\n",
       "      <td>0.655102</td>\n",
       "      <td>0.491228</td>\n",
       "      <td>0.508772</td>\n",
       "    </tr>\n",
       "    <tr>\n",
       "      <th>26</th>\n",
       "      <td>Trump</td>\n",
       "      <td>3</td>\n",
       "      <td>0.329806</td>\n",
       "      <td>0.670194</td>\n",
       "      <td>0.459459</td>\n",
       "      <td>0.540541</td>\n",
       "    </tr>\n",
       "    <tr>\n",
       "      <th>27</th>\n",
       "      <td>Trump</td>\n",
       "      <td>4</td>\n",
       "      <td>0.324022</td>\n",
       "      <td>0.675978</td>\n",
       "      <td>0.416667</td>\n",
       "      <td>0.583333</td>\n",
       "    </tr>\n",
       "    <tr>\n",
       "      <th>28</th>\n",
       "      <td>Trump</td>\n",
       "      <td>5</td>\n",
       "      <td>0.350254</td>\n",
       "      <td>0.649746</td>\n",
       "      <td>0.620690</td>\n",
       "      <td>0.379310</td>\n",
       "    </tr>\n",
       "    <tr>\n",
       "      <th>29</th>\n",
       "      <td>Trump</td>\n",
       "      <td>6</td>\n",
       "      <td>0.329730</td>\n",
       "      <td>0.670270</td>\n",
       "      <td>0.458333</td>\n",
       "      <td>0.541667</td>\n",
       "    </tr>\n",
       "    <tr>\n",
       "      <th>30</th>\n",
       "      <td>Trump</td>\n",
       "      <td>7</td>\n",
       "      <td>0.350674</td>\n",
       "      <td>0.649326</td>\n",
       "      <td>0.606061</td>\n",
       "      <td>0.393939</td>\n",
       "    </tr>\n",
       "    <tr>\n",
       "      <th>31</th>\n",
       "      <td>Trump</td>\n",
       "      <td>8</td>\n",
       "      <td>0.289803</td>\n",
       "      <td>0.710197</td>\n",
       "      <td>0.333333</td>\n",
       "      <td>0.666667</td>\n",
       "    </tr>\n",
       "    <tr>\n",
       "      <th>32</th>\n",
       "      <td>Trump</td>\n",
       "      <td>9</td>\n",
       "      <td>0.299376</td>\n",
       "      <td>0.700624</td>\n",
       "      <td>0.516129</td>\n",
       "      <td>0.483871</td>\n",
       "    </tr>\n",
       "    <tr>\n",
       "      <th>33</th>\n",
       "      <td>Trump</td>\n",
       "      <td>10</td>\n",
       "      <td>0.341667</td>\n",
       "      <td>0.658333</td>\n",
       "      <td>0.312500</td>\n",
       "      <td>0.687500</td>\n",
       "    </tr>\n",
       "    <tr>\n",
       "      <th>34</th>\n",
       "      <td>Trump</td>\n",
       "      <td>11</td>\n",
       "      <td>0.345382</td>\n",
       "      <td>0.654618</td>\n",
       "      <td>0.666667</td>\n",
       "      <td>0.333333</td>\n",
       "    </tr>\n",
       "    <tr>\n",
       "      <th>35</th>\n",
       "      <td>Trump</td>\n",
       "      <td>12</td>\n",
       "      <td>0.355828</td>\n",
       "      <td>0.644172</td>\n",
       "      <td>0.450000</td>\n",
       "      <td>0.550000</td>\n",
       "    </tr>\n",
       "    <tr>\n",
       "      <th>36</th>\n",
       "      <td>Biden</td>\n",
       "      <td>1</td>\n",
       "      <td>0.269311</td>\n",
       "      <td>0.730689</td>\n",
       "      <td>0.545455</td>\n",
       "      <td>0.454545</td>\n",
       "    </tr>\n",
       "    <tr>\n",
       "      <th>37</th>\n",
       "      <td>Biden</td>\n",
       "      <td>2</td>\n",
       "      <td>0.293750</td>\n",
       "      <td>0.706250</td>\n",
       "      <td>0.454545</td>\n",
       "      <td>0.545455</td>\n",
       "    </tr>\n",
       "    <tr>\n",
       "      <th>38</th>\n",
       "      <td>Biden</td>\n",
       "      <td>3</td>\n",
       "      <td>0.292599</td>\n",
       "      <td>0.707401</td>\n",
       "      <td>0.523810</td>\n",
       "      <td>0.476190</td>\n",
       "    </tr>\n",
       "    <tr>\n",
       "      <th>39</th>\n",
       "      <td>Biden</td>\n",
       "      <td>4</td>\n",
       "      <td>0.277207</td>\n",
       "      <td>0.722793</td>\n",
       "      <td>0.333333</td>\n",
       "      <td>0.666667</td>\n",
       "    </tr>\n",
       "    <tr>\n",
       "      <th>40</th>\n",
       "      <td>Biden</td>\n",
       "      <td>5</td>\n",
       "      <td>0.260628</td>\n",
       "      <td>0.739372</td>\n",
       "      <td>0.636364</td>\n",
       "      <td>0.363636</td>\n",
       "    </tr>\n",
       "    <tr>\n",
       "      <th>41</th>\n",
       "      <td>Biden</td>\n",
       "      <td>6</td>\n",
       "      <td>0.294466</td>\n",
       "      <td>0.705534</td>\n",
       "      <td>0.666667</td>\n",
       "      <td>0.333333</td>\n",
       "    </tr>\n",
       "    <tr>\n",
       "      <th>42</th>\n",
       "      <td>Biden</td>\n",
       "      <td>7</td>\n",
       "      <td>0.241176</td>\n",
       "      <td>0.758824</td>\n",
       "      <td>0.500000</td>\n",
       "      <td>0.500000</td>\n",
       "    </tr>\n",
       "    <tr>\n",
       "      <th>43</th>\n",
       "      <td>Biden</td>\n",
       "      <td>8</td>\n",
       "      <td>0.226592</td>\n",
       "      <td>0.773408</td>\n",
       "      <td>0.250000</td>\n",
       "      <td>0.750000</td>\n",
       "    </tr>\n",
       "    <tr>\n",
       "      <th>44</th>\n",
       "      <td>Biden</td>\n",
       "      <td>9</td>\n",
       "      <td>0.286652</td>\n",
       "      <td>0.713348</td>\n",
       "      <td>0.222222</td>\n",
       "      <td>0.777778</td>\n",
       "    </tr>\n",
       "    <tr>\n",
       "      <th>45</th>\n",
       "      <td>Biden</td>\n",
       "      <td>10</td>\n",
       "      <td>0.274841</td>\n",
       "      <td>0.725159</td>\n",
       "      <td>0.312500</td>\n",
       "      <td>0.687500</td>\n",
       "    </tr>\n",
       "    <tr>\n",
       "      <th>46</th>\n",
       "      <td>Biden</td>\n",
       "      <td>11</td>\n",
       "      <td>0.299197</td>\n",
       "      <td>0.700803</td>\n",
       "      <td>0.250000</td>\n",
       "      <td>0.750000</td>\n",
       "    </tr>\n",
       "    <tr>\n",
       "      <th>47</th>\n",
       "      <td>Biden</td>\n",
       "      <td>12</td>\n",
       "      <td>0.302772</td>\n",
       "      <td>0.697228</td>\n",
       "      <td>0.500000</td>\n",
       "      <td>0.500000</td>\n",
       "    </tr>\n",
       "  </tbody>\n",
       "</table>\n",
       "</div>"
      ],
      "text/plain": [
       "   president month  positive (all)  negative (all)  positive (direct)  \\\n",
       "0       Bush     1        0.259101        0.740899           0.423077   \n",
       "1       Bush     2        0.270270        0.729730           0.222222   \n",
       "2       Bush     3        0.268775        0.731225           0.424658   \n",
       "3       Bush     4        0.244856        0.755144           0.250000   \n",
       "4       Bush     5        0.260116        0.739884           0.356322   \n",
       "5       Bush     6        0.309598        0.690402           0.422535   \n",
       "6       Bush     7        0.245098        0.754902           0.271429   \n",
       "7       Bush     8        0.294304        0.705696           0.200000   \n",
       "8       Bush     9        0.234177        0.765823           0.206186   \n",
       "9       Bush    10        0.217520        0.782480           0.180952   \n",
       "10      Bush    11        0.210300        0.789700           0.215054   \n",
       "11      Bush    12        0.220213        0.779787           0.186047   \n",
       "12     Obama     1        0.257028        0.742972           0.636364   \n",
       "13     Obama     2        0.277778        0.722222           0.500000   \n",
       "14     Obama     3        0.286239        0.713761           0.684211   \n",
       "15     Obama     4        0.294991        0.705009           0.583333   \n",
       "16     Obama     5        0.311663        0.688337           0.650000   \n",
       "17     Obama     6        0.311445        0.688555           0.750000   \n",
       "18     Obama     7        0.258944        0.741056           0.782609   \n",
       "19     Obama     8        0.271930        0.728070           0.615385   \n",
       "20     Obama     9        0.304132        0.695868           0.580645   \n",
       "21     Obama    10        0.315068        0.684932           0.454545   \n",
       "22     Obama    11        0.357564        0.642436           0.642857   \n",
       "23     Obama    12        0.278438        0.721562           0.704545   \n",
       "24     Trump     1        0.368015        0.631985           0.456522   \n",
       "25     Trump     2        0.344898        0.655102           0.491228   \n",
       "26     Trump     3        0.329806        0.670194           0.459459   \n",
       "27     Trump     4        0.324022        0.675978           0.416667   \n",
       "28     Trump     5        0.350254        0.649746           0.620690   \n",
       "29     Trump     6        0.329730        0.670270           0.458333   \n",
       "30     Trump     7        0.350674        0.649326           0.606061   \n",
       "31     Trump     8        0.289803        0.710197           0.333333   \n",
       "32     Trump     9        0.299376        0.700624           0.516129   \n",
       "33     Trump    10        0.341667        0.658333           0.312500   \n",
       "34     Trump    11        0.345382        0.654618           0.666667   \n",
       "35     Trump    12        0.355828        0.644172           0.450000   \n",
       "36     Biden     1        0.269311        0.730689           0.545455   \n",
       "37     Biden     2        0.293750        0.706250           0.454545   \n",
       "38     Biden     3        0.292599        0.707401           0.523810   \n",
       "39     Biden     4        0.277207        0.722793           0.333333   \n",
       "40     Biden     5        0.260628        0.739372           0.636364   \n",
       "41     Biden     6        0.294466        0.705534           0.666667   \n",
       "42     Biden     7        0.241176        0.758824           0.500000   \n",
       "43     Biden     8        0.226592        0.773408           0.250000   \n",
       "44     Biden     9        0.286652        0.713348           0.222222   \n",
       "45     Biden    10        0.274841        0.725159           0.312500   \n",
       "46     Biden    11        0.299197        0.700803           0.250000   \n",
       "47     Biden    12        0.302772        0.697228           0.500000   \n",
       "\n",
       "    negative (direct)  \n",
       "0            0.576923  \n",
       "1            0.777778  \n",
       "2            0.575342  \n",
       "3            0.750000  \n",
       "4            0.643678  \n",
       "5            0.577465  \n",
       "6            0.728571  \n",
       "7            0.800000  \n",
       "8            0.793814  \n",
       "9            0.819048  \n",
       "10           0.784946  \n",
       "11           0.813953  \n",
       "12           0.363636  \n",
       "13           0.500000  \n",
       "14           0.315789  \n",
       "15           0.416667  \n",
       "16           0.350000  \n",
       "17           0.250000  \n",
       "18           0.217391  \n",
       "19           0.384615  \n",
       "20           0.419355  \n",
       "21           0.545455  \n",
       "22           0.357143  \n",
       "23           0.295455  \n",
       "24           0.543478  \n",
       "25           0.508772  \n",
       "26           0.540541  \n",
       "27           0.583333  \n",
       "28           0.379310  \n",
       "29           0.541667  \n",
       "30           0.393939  \n",
       "31           0.666667  \n",
       "32           0.483871  \n",
       "33           0.687500  \n",
       "34           0.333333  \n",
       "35           0.550000  \n",
       "36           0.454545  \n",
       "37           0.545455  \n",
       "38           0.476190  \n",
       "39           0.666667  \n",
       "40           0.363636  \n",
       "41           0.333333  \n",
       "42           0.500000  \n",
       "43           0.750000  \n",
       "44           0.777778  \n",
       "45           0.687500  \n",
       "46           0.750000  \n",
       "47           0.500000  "
      ]
     },
     "execution_count": 44,
     "metadata": {},
     "output_type": "execute_result"
    }
   ],
   "source": [
    "# rearrange results into a simple pandas dataframe\n",
    "# President | Month | Positive (All) | Negative (All) | Positive (DIRECT) | Negative (DIRECT)\n",
    "# Obama | January | 58% | 42% | 55% | 45%\n",
    "\n",
    "final_df = pd.DataFrame(columns=['president', 'month', 'positive (all)', 'negative (all)', 'positive (direct)', 'negative (direct)'])\n",
    "\n",
    "for president in presidents:\n",
    "    for month in range(1,13):\n",
    "        final_df = final_df.append({'president': president,\n",
    "                                    'month': month,\n",
    "                                    'positive (all)': presidents[president]['sentiment (%)'][str(month)]['positive (all)'],\n",
    "                                    'negative (all)': presidents[president]['sentiment (%)'][str(month)]['negative (all)'],\n",
    "                                    'positive (direct)': presidents[president]['sentiment (%)'][str(month)]['positive (direct)'],\n",
    "                                    'negative (direct)': presidents[president]['sentiment (%)'][str(month)]['negative (direct)'],\n",
    "                                   },\n",
    "                                   ignore_index=True)\n",
    "\n",
    "final_df"
   ]
  },
  {
   "cell_type": "code",
   "execution_count": 45,
   "id": "e16df7d5",
   "metadata": {},
   "outputs": [
    {
     "data": {
      "image/png": "[encoded data removed]",
      "text/plain": [
       "<Figure size 864x576 with 1 Axes>"
      ]
     },
     "metadata": {},
     "output_type": "display_data"
    }
   ],
   "source": [
    "sns.set(rc={'figure.figsize':(12,8)})\n",
    "\n",
    "ax = plt.axes()\n",
    "sns.barplot(x=final_df['month'], y=final_df['positive (all)'], hue=final_df['president'], palette='YlGnBu_r')\n",
    "ax.set_title('Positive Sentiment (All) by Month', fontsize=16)\n",
    "plt.show()"
   ]
  },
  {
   "cell_type": "code",
   "execution_count": 46,
   "id": "b3926522",
   "metadata": {},
   "outputs": [
    {
     "data": {
      "image/png": "[encoded data removed]",
      "text/plain": [
       "<Figure size 864x576 with 1 Axes>"
      ]
     },
     "metadata": {},
     "output_type": "display_data"
    }
   ],
   "source": [
    "ax = plt.axes()\n",
    "sns.barplot(x=final_df['month'], y=final_df['positive (direct)'], hue=final_df['president'], palette='plasma')\n",
    "ax.set_title('Positive Sentiment (Direct Mention) by Month', fontsize=16)\n",
    "plt.show()"
   ]
  },
  {
   "cell_type": "code",
   "execution_count": 47,
   "id": "99b9dff3",
   "metadata": {},
   "outputs": [
    {
     "data": {
      "text/html": [
       "<div>\n",
       "<style scoped>\n",
       "    .dataframe tbody tr th:only-of-type {\n",
       "        vertical-align: middle;\n",
       "    }\n",
       "\n",
       "    .dataframe tbody tr th {\n",
       "        vertical-align: top;\n",
       "    }\n",
       "\n",
       "    .dataframe thead th {\n",
       "        text-align: right;\n",
       "    }\n",
       "</style>\n",
       "<table border=\"1\" class=\"dataframe\">\n",
       "  <thead>\n",
       "    <tr style=\"text-align: right;\">\n",
       "      <th></th>\n",
       "      <th>positive (all)</th>\n",
       "      <th>negative (all)</th>\n",
       "      <th>positive (direct)</th>\n",
       "      <th>negative (direct)</th>\n",
       "    </tr>\n",
       "    <tr>\n",
       "      <th>president</th>\n",
       "      <th></th>\n",
       "      <th></th>\n",
       "      <th></th>\n",
       "      <th></th>\n",
       "    </tr>\n",
       "  </thead>\n",
       "  <tbody>\n",
       "    <tr>\n",
       "      <th>Biden</th>\n",
       "      <td>0.276599</td>\n",
       "      <td>0.723401</td>\n",
       "      <td>0.432908</td>\n",
       "      <td>0.567092</td>\n",
       "    </tr>\n",
       "    <tr>\n",
       "      <th>Bush</th>\n",
       "      <td>0.252861</td>\n",
       "      <td>0.747139</td>\n",
       "      <td>0.279873</td>\n",
       "      <td>0.720127</td>\n",
       "    </tr>\n",
       "    <tr>\n",
       "      <th>Obama</th>\n",
       "      <td>0.293768</td>\n",
       "      <td>0.706232</td>\n",
       "      <td>0.632041</td>\n",
       "      <td>0.367959</td>\n",
       "    </tr>\n",
       "    <tr>\n",
       "      <th>Trump</th>\n",
       "      <td>0.335788</td>\n",
       "      <td>0.664212</td>\n",
       "      <td>0.482299</td>\n",
       "      <td>0.517701</td>\n",
       "    </tr>\n",
       "  </tbody>\n",
       "</table>\n",
       "</div>"
      ],
      "text/plain": [
       "           positive (all)  negative (all)  positive (direct)  \\\n",
       "president                                                      \n",
       "Biden            0.276599        0.723401           0.432908   \n",
       "Bush             0.252861        0.747139           0.279873   \n",
       "Obama            0.293768        0.706232           0.632041   \n",
       "Trump            0.335788        0.664212           0.482299   \n",
       "\n",
       "           negative (direct)  \n",
       "president                     \n",
       "Biden               0.567092  \n",
       "Bush                0.720127  \n",
       "Obama               0.367959  \n",
       "Trump               0.517701  "
      ]
     },
     "execution_count": 47,
     "metadata": {},
     "output_type": "execute_result"
    }
   ],
   "source": [
    "summary_df = final_df.groupby(by=['president']).mean()\n",
    "summary_df"
   ]
  },
  {
   "cell_type": "code",
   "execution_count": 48,
   "id": "c18d42e6",
   "metadata": {},
   "outputs": [
    {
     "data": {
      "image/png": "[encoded data removed]",
      "text/plain": [
       "<Figure size 864x576 with 1 Axes>"
      ]
     },
     "metadata": {},
     "output_type": "display_data"
    }
   ],
   "source": [
    "ax = plt.axes()\n",
    "sns.barplot(x=summary_df.index, y=summary_df['positive (all)'], color='cornflowerblue')\n",
    "ax.set_title('Average Positive Sentiment (All), by President')\n",
    "plt.show()"
   ]
  },
  {
   "cell_type": "code",
   "execution_count": 49,
   "id": "6f3500b4",
   "metadata": {},
   "outputs": [
    {
     "data": {
      "image/png": "[encoded data removed]",
      "text/plain": [
       "<Figure size 864x576 with 1 Axes>"
      ]
     },
     "metadata": {},
     "output_type": "display_data"
    }
   ],
   "source": [
    "ax = plt.axes()\n",
    "sns.barplot(x=summary_df.index, y=summary_df['positive (direct)'], color='salmon')\n",
    "ax.set_title('Average Positive Sentiment (Direct Mention), by President')\n",
    "plt.show()"
   ]
  },
  {
   "cell_type": "markdown",
   "id": "79291416",
   "metadata": {},
   "source": [
    "## Investigating some interesting findings\n",
    "\n",
    "Trump sentiment is surprisingly positive. Let's look at a sampling of headlines from May, when his direct mention positive sentiment was 60%\n",
    "\n",
    "Next, let's check out Obama's 87% positive direct mentions in July."
   ]
  },
  {
   "cell_type": "code",
   "execution_count": 50,
   "id": "d2b358ae",
   "metadata": {
    "scrolled": true
   },
   "outputs": [
    {
     "name": "stdout",
     "output_type": "stream",
     "text": [
      "The Philippines leader, who is accused of ordering extrajudicial killings, has said he “cannot make any definite promise” to accept President Trump’s invitation.\n",
      "0 \n",
      "\n",
      "President Trump‘s willingness to meet with the North Korean and Philippine leaders illustrated his confidence in his own deal making but alarmed critics.\n",
      "1 \n",
      "\n",
      "In their first conversation since last month’s rupture over Syria, President Trump said he would send a representative to Russian-sponsored talks.\n",
      "1 \n",
      "\n",
      "South Koreans head to the polls on May 9. The leader they choose will face many uncertainties, not least of them President Trump.\n",
      "0 \n",
      "\n",
      "Beneath the bonhomie, experts say, are differences of strategic interest that may keep President Trump from getting the results he wants on North Korea.\n",
      "1 \n",
      "\n",
      "Meeting with the Palestinian leader, Mahmoud Abbas, President Trump said, “We will get this done,” a bold promise given the complexity of any peace deal.\n",
      "1 \n",
      "\n",
      "The Kremlin cannot understand why President Trump has met a string of world leaders but afforded President Putin just three measly phone calls.\n",
      "0 \n",
      "\n",
      "Prime Minister Malcolm Turnbull of Australia is in New York preparing to meet President Trump. The visit offers opportunities and risks for the prime minister.\n",
      "1 \n",
      "\n",
      "After a rocky first phone call, President Trump and Prime Minister Malcolm Turnbull of Australia used a meeting in New York to try to show that they have put the encounter behind them.\n",
      "1 \n",
      "\n",
      "Damien Cave, our Australia bureau chief, chatted with Maggie Haberman, White House correspondent, about how Mr. Trump is managing relations with Australia.\n",
      "1 \n",
      "\n"
     ]
    }
   ],
   "source": [
    "for i in range(10):\n",
    "    print(presidents['Trump']['direct_mentions']['5'][i])\n",
    "    print(presidents['Trump']['sentiment (predictions)']['direct']['5'][i], '\\n')"
   ]
  },
  {
   "cell_type": "markdown",
   "id": "7f9c656e",
   "metadata": {},
   "source": [
    "Perhaps the positive news abstracts are influenced by Trump's own language choices (bold, positive terms). Or perhaps the world wasn't facing as many calamities in Trump's first year vs. Bush's (terrorism), Biden's (COVID), and Obama's (financial crisis) and therefore the general tone of the news was more positive? Further analysis should be done!"
   ]
  },
  {
   "cell_type": "code",
   "execution_count": 51,
   "id": "6c7b2572",
   "metadata": {
    "scrolled": true
   },
   "outputs": [
    {
     "name": "stdout",
     "output_type": "stream",
     "text": [
      "The Israeli defense minister and the Obama administration’s Middle East envoy will confer for the second time in a week to pursue regional peace efforts, a senior Israeli official said.\n",
      "1 \n",
      "\n",
      "As he heads to Moscow, President Obama faces a complex political dynamic: a country with two leaders, President Dmitri A. Medvedev and Prime Minister Vladimir V. Putin.\n",
      "1 \n",
      "\n",
      "President Obama is pushing for new global rules, treaties and alliances to establish a nuclear-free world, a vision he developed as a college student.\n",
      "1 \n",
      "\n",
      "President Obama raised concerns about the treatment of a businessman, Mikhail B. Khodorkovsky, who along with his partner has been put back on trial six years after they were first arrested.\n",
      "1 \n",
      "\n",
      "President Obama and President Dmitri A. Medvedev announced a preliminary agreement on cutting their stockpiles of nuclear weapons.\n",
      "1 \n",
      "\n",
      "The following is a text of President Obama’s remarks delivered at the New Economic School in Moscow, as released by the White House.\n",
      "1 \n",
      "\n",
      "President Obama’s decision to brush off the Russians on one of his two nights in Moscow miffed some in the government.\n",
      "1 \n",
      "\n",
      "Unlike other capitals, Moscow has greeted President Obama as just another dignitary passing through.\n",
      "1 \n",
      "\n",
      "President Obama wasn't treated with the usual fanfare when he visited Moscow. (Video: NBC).\n",
      "0 \n",
      "\n",
      "President Obama, who arrived in Ghana on Friday, said that he had appealed to G-8 leaders to donate more to the food aid program for the developing world.\n",
      "1 \n",
      "\n"
     ]
    }
   ],
   "source": [
    "for i in range(10):\n",
    "    print(presidents['Obama']['direct_mentions']['7'][i])\n",
    "    print(presidents['Obama']['sentiment (predictions)']['direct']['7'][i], '\\n')"
   ]
  },
  {
   "cell_type": "markdown",
   "id": "020d78a2",
   "metadata": {},
   "source": [
    "In this sample for Obama, we can see our classifier is definitely making some mistakes. The lack of fanfare in Moscow should probably be categorized as negative, unless our classifier is just super smart and knows that we don't want to be too popular with Putin!"
   ]
  },
  {
   "cell_type": "code",
   "execution_count": 68,
   "id": "8e8aa5ea",
   "metadata": {},
   "outputs": [
    {
     "data": {
      "application/javascript": [
       "window.require && require([\"base/js/namespace\"],function(Jupyter){Jupyter.notebook.save_checkpoint()})"
      ],
      "text/plain": [
       "<IPython.core.display.Javascript object>"
      ]
     },
     "metadata": {},
     "output_type": "display_data"
    },
    {
     "name": "stdout",
     "output_type": "stream",
     "text": [
      "[jovian] Committed successfully! https://jovian.ai/abode118/nyt-sentiment-analysis\r\n"
     ]
    },
    {
     "data": {
      "text/plain": [
       "'https://jovian.ai/abode118/nyt-sentiment-analysis'"
      ]
     },
     "execution_count": 68,
     "metadata": {},
     "output_type": "execute_result"
    }
   ],
   "source": [
    "import jovian\n",
    "jovian.commit()"
   ]
  },
  {
   "cell_type": "code",
   "execution_count": null,
   "id": "2f1292fc",
   "metadata": {},
   "outputs": [],
   "source": []
  }
 ],
 "metadata": {
  "kernelspec": {
   "display_name": "Python 3",
   "language": "python",
   "name": "python3"
  },
  "language_info": {
   "codemirror_mode": {
    "name": "ipython",
    "version": 3
   },
   "file_extension": ".py",
   "mimetype": "text/x-python",
   "name": "python",
   "nbconvert_exporter": "python",
   "pygments_lexer": "ipython3",
   "version": "3.8.10"
  }
 },
 "nbformat": 4,
 "nbformat_minor": 5
}
